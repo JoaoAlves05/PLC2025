{
 "cells": [
  {
   "cell_type": "markdown",
   "id": "b02104eb",
   "metadata": {},
   "source": [
    "# TPC2 - Conversor de Markdown para HTML  \n",
    "**UC:** Processamento de Linguagens e Compiladores\n",
    "---\n",
    "\n",
    "## Enunciado\n",
    "\n",
    "Criar em Python um pequeno conversor de Markdown para HTML para os elementos descritos na *Basic Syntax* da Cheat Sheet:\n",
    "\n",
    "- **Cabeçalhos:** `#`, `##`, `###`\n",
    "- **Negrito:** `**texto**`\n",
    "- **Itálico:** `*texto*`\n",
    "- **Listas numeradas:**\n",
    "    1. item\n",
    "    2. item\n",
    "- **Links:** `[texto](url)`\n",
    "- **Imagens:** `![alt](url)`\n",
    "\n",
    "O programa deve:\n",
    "- Ler o texto Markdown do **stdin** e gerar os HTML correspondente"
   ]
  },
  {
   "cell_type": "code",
   "execution_count": null,
   "id": "db3a2c2a",
   "metadata": {},
   "outputs": [
    {
     "name": "stdout",
     "output_type": "stream",
     "text": [
      "<h1>Exemplo</h1>\n",
      "<p>Este é um <b>texto</b> em <i>itálico</i> e um <a href=\"http://exemplo.com\">link</a></p>\n",
      "<ol>\n",
      "<li>Item 1</li>\n",
      "<li>Item 2</li>\n",
      "<li>Item 3</li>\n",
      "</ol>\n",
      "<p><img src=\"http://www.google.com\" alt=\"google\"/></p>\n"
     ]
    }
   ],
   "source": [
    "import re\n",
    "\n",
    "def markdown_to_html(markdown):\n",
    "    html = [] # Lista para guardar linhas HTML\n",
    "    lines = markdown.split('\\n') # Dividir o texto em linhas\n",
    "    in_list = False\n",
    "\n",
    "    for line in lines:\n",
    "        line = line.strip()\n",
    "\n",
    "        # Cabeçalhos\n",
    "        if re.match(r'### ', line):\n",
    "            html.append(f\"<h3>{line[4:]}</h3>\")\n",
    "        elif re.match(r'## ', line):\n",
    "            html.append(f\"<h2>{line[3:]}</h2>\")\n",
    "        elif re.match(r'# ', line):\n",
    "            html.append(f\"<h1>{line[2:]}</h1>\")\n",
    "\n",
    "        # Lista numerada\n",
    "        elif re.match(r'\\d+\\.\\s', line):\n",
    "            if not in_list:\n",
    "                html.append(\"<ol>\")\n",
    "                in_list = True\n",
    "            item = re.sub(r'^\\d+\\.\\s+', '', line)\n",
    "            html.append(f\"<li>{item}</li>\")\n",
    "        else:\n",
    "            if in_list:\n",
    "                html.append(\"</ol>\")\n",
    "                in_list = False\n",
    "\n",
    "            line = re.sub(r'\\*\\*(.*?)\\*\\*', r'<b>\\1</b>', line)  # negrito\n",
    "            line = re.sub(r'\\*(.*?)\\*', r'<i>\\1</i>', line)      # italico\n",
    "            line = re.sub(r'!\\[(.*?)\\]\\((.*?)\\)', r'<img src=\"\\2\" alt=\"\\1\"/>', line)  # imagem\n",
    "            line = re.sub(r'\\[(.*?)\\]\\((.*?)\\)', r'<a href=\"\\2\">\\1</a>', line)        # link\n",
    "\n",
    "            if line:\n",
    "                html.append(f\"<p>{line}</p>\")\n",
    "\n",
    "    if in_list:\n",
    "        html.append(\"</ol>\")\n",
    "\n",
    "    return '\\n'.join(html)\n",
    "\n",
    "\n",
    "# --- Ler do stdin ---\n",
    "if __name__ == \"__main__\":\n",
    "    markdown_input = \"\"\"# Exemplo\n",
    "Este é um **texto** em *itálico* e um [link](http://exemplo.com)\n",
    "\n",
    "1. Item 1\n",
    "2. Item 2\n",
    "3. Item 3\n",
    "\n",
    "![google](http://www.google.com)\n",
    "\"\"\"\n",
    "    html_output = markdown_to_html(markdown_input)\n",
    "    print(html_output)\n",
    "\n"
   ]
  }
 ],
 "metadata": {
  "kernelspec": {
   "display_name": "Python 3",
   "language": "python",
   "name": "python3"
  },
  "language_info": {
   "codemirror_mode": {
    "name": "ipython",
    "version": 3
   },
   "file_extension": ".py",
   "mimetype": "text/x-python",
   "name": "python",
   "nbconvert_exporter": "python",
   "pygments_lexer": "ipython3",
   "version": "3.13.8"
  }
 },
 "nbformat": 4,
 "nbformat_minor": 5
}
